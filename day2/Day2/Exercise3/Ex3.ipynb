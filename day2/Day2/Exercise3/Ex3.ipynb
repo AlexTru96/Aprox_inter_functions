{
 "cells": [
  {
   "cell_type": "code",
   "execution_count": 18,
   "id": "a9ca2cc4",
   "metadata": {},
   "outputs": [],
   "source": [
    "import sympy as sy\n",
    "import numpy as np\n",
    "import matplotlib.pyplot as plt\n",
    "from sympy.functions import exp,sqrt\n",
    "x = sy.Symbol('x')"
   ]
  },
  {
   "cell_type": "code",
   "execution_count": 19,
   "id": "9c683c02",
   "metadata": {},
   "outputs": [],
   "source": [
    "def grid_generator(fx, npoints, x_lims = [0, 20], x = sy.Symbol('x')):\n",
    "    x_ = np.linspace(x_lims[0], x_lims[1], npoints)\n",
    "    _lambda = sy.lambdify(x, fx, \"numpy\")\n",
    "    return _lambda(x_)"
   ]
  },
  {
   "cell_type": "code",
   "execution_count": 24,
   "id": "96f2d417",
   "metadata": {},
   "outputs": [],
   "source": [
    "sqrt_lookuptable = grid_generator(sqrt(x),100)"
   ]
  },
  {
   "cell_type": "code",
   "execution_count": 21,
   "id": "fd8d420e",
   "metadata": {},
   "outputs": [],
   "source": [
    "def newton_raphson(fx, x0, n_iter):\n",
    "    _f_iter = x - fx/fx.diff(x, 1)\n",
    "    _lambda = sy.lambdify(x, _f_iter, \"numpy\")\n",
    "    i = 1\n",
    "    x1 = _lambda(x0)\n",
    "    while i<n_iter:\n",
    "        x1 = _lambda(x1)\n",
    "        i = i+1\n",
    "    return x1"
   ]
  },
  {
   "cell_type": "code",
   "execution_count": 36,
   "id": "65fda64c",
   "metadata": {},
   "outputs": [
    {
     "data": {
      "text/plain": [
       "2.6457513110645907"
      ]
     },
     "execution_count": 36,
     "metadata": {},
     "output_type": "execute_result"
    }
   ],
   "source": [
    "#Lets find the sqrt root of 7 checking the nearest number on the look-up table and using 4 iterations\n",
    "fx = x**2 - 7\n",
    "index = int(7/(20/100))\n",
    "x0 = sqrt_lookuptable[index]\n",
    "newton_raphson(fx,x0,4)"
   ]
  },
  {
   "cell_type": "code",
   "execution_count": 37,
   "id": "5899245b",
   "metadata": {},
   "outputs": [],
   "source": [
    "precision = 10e-14"
   ]
  },
  {
   "cell_type": "code",
   "execution_count": 38,
   "id": "c22c1c2b",
   "metadata": {},
   "outputs": [
    {
     "name": "stdout",
     "output_type": "stream",
     "text": [
      "4\n"
     ]
    }
   ],
   "source": [
    "#How many iterations to obtain a 10e-14 precision?\n",
    "error = 1\n",
    "iterations = 1\n",
    "best_value = np.sqrt(7)\n",
    "while error >precision:\n",
    "    val = newton_raphson(fx,x0,iterations)\n",
    "    error = np.abs(best_value-val)\n",
    "    iterations = iterations+1\n",
    "print(iterations)"
   ]
  },
  {
   "cell_type": "markdown",
   "id": "4a63ccbd",
   "metadata": {},
   "source": [
    "### Just 4, Newton Raphson converges really fast for well behaved functions"
   ]
  }
 ],
 "metadata": {
  "kernelspec": {
   "display_name": "Python 3",
   "language": "python",
   "name": "python3"
  },
  "language_info": {
   "codemirror_mode": {
    "name": "ipython",
    "version": 3
   },
   "file_extension": ".py",
   "mimetype": "text/x-python",
   "name": "python",
   "nbconvert_exporter": "python",
   "pygments_lexer": "ipython3",
   "version": "3.8.8"
  }
 },
 "nbformat": 4,
 "nbformat_minor": 5
}
